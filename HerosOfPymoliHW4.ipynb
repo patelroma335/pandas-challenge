{
 "cells": [
  {
   "cell_type": "code",
   "execution_count": 1,
   "metadata": {},
   "outputs": [],
   "source": [
    "import pandas as pd\n",
    "import numpy as np"
   ]
  },
  {
   "cell_type": "code",
   "execution_count": 2,
   "metadata": {},
   "outputs": [],
   "source": [
    "csv_path = (\"./purchase_data.csv\")\n",
    "\n",
    "csv_df = pd.read_csv(csv_path)\n"
   ]
  },
  {
   "cell_type": "code",
   "execution_count": 3,
   "metadata": {},
   "outputs": [
    {
     "data": {
      "text/html": [
       "<div>\n",
       "<style scoped>\n",
       "    .dataframe tbody tr th:only-of-type {\n",
       "        vertical-align: middle;\n",
       "    }\n",
       "\n",
       "    .dataframe tbody tr th {\n",
       "        vertical-align: top;\n",
       "    }\n",
       "\n",
       "    .dataframe thead th {\n",
       "        text-align: right;\n",
       "    }\n",
       "</style>\n",
       "<table border=\"1\" class=\"dataframe\">\n",
       "  <thead>\n",
       "    <tr style=\"text-align: right;\">\n",
       "      <th></th>\n",
       "      <th>Total Players</th>\n",
       "    </tr>\n",
       "  </thead>\n",
       "  <tbody>\n",
       "    <tr>\n",
       "      <th>0</th>\n",
       "      <td>576</td>\n",
       "    </tr>\n",
       "  </tbody>\n",
       "</table>\n",
       "</div>"
      ],
      "text/plain": [
       "   Total Players\n",
       "0            576"
      ]
     },
     "execution_count": 3,
     "metadata": {},
     "output_type": "execute_result"
    }
   ],
   "source": [
    "#Total Number of Players\n",
    "Total_Players =len(csv_df[\"SN\"].value_counts())\n",
    "Player_Count = pd.DataFrame({\"Total Players\":[Total_Players]})\n",
    "Player_Count"
   ]
  },
  {
   "cell_type": "code",
   "execution_count": 4,
   "metadata": {},
   "outputs": [
    {
     "data": {
      "text/html": [
       "<style  type=\"text/css\" >\n",
       "</style><table id=\"T_79eaf446_8bfc_11ea_a82c_303a647772f1\" ><thead>    <tr>        <th class=\"blank level0\" ></th>        <th class=\"col_heading level0 col0\" >Number of Unique Items</th>        <th class=\"col_heading level0 col1\" >Average Purchase Price</th>        <th class=\"col_heading level0 col2\" >Total Number of Purchases</th>        <th class=\"col_heading level0 col3\" >Total Revenue</th>    </tr></thead><tbody>\n",
       "                <tr>\n",
       "                        <th id=\"T_79eaf446_8bfc_11ea_a82c_303a647772f1level0_row0\" class=\"row_heading level0 row0\" >0</th>\n",
       "                        <td id=\"T_79eaf446_8bfc_11ea_a82c_303a647772f1row0_col0\" class=\"data row0 col0\" >179</td>\n",
       "                        <td id=\"T_79eaf446_8bfc_11ea_a82c_303a647772f1row0_col1\" class=\"data row0 col1\" >$3.05</td>\n",
       "                        <td id=\"T_79eaf446_8bfc_11ea_a82c_303a647772f1row0_col2\" class=\"data row0 col2\" >780</td>\n",
       "                        <td id=\"T_79eaf446_8bfc_11ea_a82c_303a647772f1row0_col3\" class=\"data row0 col3\" >$2,379.77</td>\n",
       "            </tr>\n",
       "    </tbody></table>"
      ],
      "text/plain": [
       "<pandas.io.formats.style.Styler at 0x19bcbaabe48>"
      ]
     },
     "execution_count": 4,
     "metadata": {},
     "output_type": "execute_result"
    }
   ],
   "source": [
    "Unique_Items = len(csv_df[\"Item ID\"].unique())\n",
    "\n",
    "Average_Purchase_Price = csv_df[\"Price\"].mean()\n",
    "\n",
    "Total_Number_of_Purchases = csv_df[\"Purchase ID\"].count()\n",
    "\n",
    "Total_Revenue = csv_df[\"Price\"].sum()\n",
    "\n",
    "# Create a Data Frame\n",
    "Summary_df = pd.DataFrame({\"Number of Unique Items\":[Unique_Items],\"Average Purchase Price\":[Average_Purchase_Price],\n",
    "                          \"Total Number of Purchases\":[Total_Number_of_Purchases],\"Total Revenue\":[Total_Revenue]})\n",
    "# Give a Currency Format\n",
    "Summary_df.style.format({'Average Purchase Price':\"${:,.2f}\",'Total Revenue':\"${:,.2f}\"})\n"
   ]
  },
  {
   "cell_type": "code",
   "execution_count": 5,
   "metadata": {
    "scrolled": true
   },
   "outputs": [
    {
     "data": {
      "text/html": [
       "<style  type=\"text/css\" >\n",
       "</style><table id=\"T_7cef0c94_8bfc_11ea_a57b_303a647772f1\" ><thead>    <tr>        <th class=\"blank level0\" ></th>        <th class=\"col_heading level0 col0\" >Players Percentage</th>        <th class=\"col_heading level0 col1\" >Total</th>    </tr>    <tr>        <th class=\"index_name level0\" >Gender</th>        <th class=\"blank\" ></th>        <th class=\"blank\" ></th>    </tr></thead><tbody>\n",
       "                <tr>\n",
       "                        <th id=\"T_7cef0c94_8bfc_11ea_a57b_303a647772f1level0_row0\" class=\"row_heading level0 row0\" >Female</th>\n",
       "                        <td id=\"T_7cef0c94_8bfc_11ea_a57b_303a647772f1row0_col0\" class=\"data row0 col0\" >$14.06</td>\n",
       "                        <td id=\"T_7cef0c94_8bfc_11ea_a57b_303a647772f1row0_col1\" class=\"data row0 col1\" >81</td>\n",
       "            </tr>\n",
       "            <tr>\n",
       "                        <th id=\"T_7cef0c94_8bfc_11ea_a57b_303a647772f1level0_row1\" class=\"row_heading level0 row1\" >Male</th>\n",
       "                        <td id=\"T_7cef0c94_8bfc_11ea_a57b_303a647772f1row1_col0\" class=\"data row1 col0\" >$84.03</td>\n",
       "                        <td id=\"T_7cef0c94_8bfc_11ea_a57b_303a647772f1row1_col1\" class=\"data row1 col1\" >484</td>\n",
       "            </tr>\n",
       "            <tr>\n",
       "                        <th id=\"T_7cef0c94_8bfc_11ea_a57b_303a647772f1level0_row2\" class=\"row_heading level0 row2\" >Other / Non-Disclosed</th>\n",
       "                        <td id=\"T_7cef0c94_8bfc_11ea_a57b_303a647772f1row2_col0\" class=\"data row2 col0\" >$1.91</td>\n",
       "                        <td id=\"T_7cef0c94_8bfc_11ea_a57b_303a647772f1row2_col1\" class=\"data row2 col1\" >11</td>\n",
       "            </tr>\n",
       "    </tbody></table>"
      ],
      "text/plain": [
       "<pandas.io.formats.style.Styler at 0x19bcc8d0c88>"
      ]
     },
     "execution_count": 5,
     "metadata": {},
     "output_type": "execute_result"
    }
   ],
   "source": [
    "Gender_stats = csv_df.groupby(\"Gender\")\n",
    "\n",
    "Total_Gender_Count = Gender_stats.nunique()[\"SN\"]\n",
    "\n",
    "Players_Percentage = Total_Gender_Count/ Total_Players * 100\n",
    "\n",
    "Gender_Demographics = pd.DataFrame({\"Players Percentage\": Players_Percentage, \"Total\": Total_Gender_Count})\n",
    "\n",
    "Gender_Demographics.index.name = \"Gender\"\n",
    "\n",
    "Gender_Demographics.style.format({'Players Percentage':\"${:,.2f}\"})\n",
    "\n",
    "\n"
   ]
  },
  {
   "cell_type": "code",
   "execution_count": 6,
   "metadata": {},
   "outputs": [
    {
     "data": {
      "text/html": [
       "<style  type=\"text/css\" >\n",
       "</style><table id=\"T_8059f380_8bfc_11ea_a7ca_303a647772f1\" ><thead>    <tr>        <th class=\"blank level0\" ></th>        <th class=\"col_heading level0 col0\" >Purchase Count</th>        <th class=\"col_heading level0 col1\" >Average Purchase Price</th>        <th class=\"col_heading level0 col2\" >Average Purchase Value</th>        <th class=\"col_heading level0 col3\" >Average Purchase Total per Person</th>    </tr>    <tr>        <th class=\"index_name level0\" >Gender</th>        <th class=\"blank\" ></th>        <th class=\"blank\" ></th>        <th class=\"blank\" ></th>        <th class=\"blank\" ></th>    </tr></thead><tbody>\n",
       "                <tr>\n",
       "                        <th id=\"T_8059f380_8bfc_11ea_a7ca_303a647772f1level0_row0\" class=\"row_heading level0 row0\" >Female</th>\n",
       "                        <td id=\"T_8059f380_8bfc_11ea_a7ca_303a647772f1row0_col0\" class=\"data row0 col0\" >113</td>\n",
       "                        <td id=\"T_8059f380_8bfc_11ea_a7ca_303a647772f1row0_col1\" class=\"data row0 col1\" >$3.05</td>\n",
       "                        <td id=\"T_8059f380_8bfc_11ea_a7ca_303a647772f1row0_col2\" class=\"data row0 col2\" >$361.94</td>\n",
       "                        <td id=\"T_8059f380_8bfc_11ea_a7ca_303a647772f1row0_col3\" class=\"data row0 col3\" >$4.47</td>\n",
       "            </tr>\n",
       "            <tr>\n",
       "                        <th id=\"T_8059f380_8bfc_11ea_a7ca_303a647772f1level0_row1\" class=\"row_heading level0 row1\" >Male</th>\n",
       "                        <td id=\"T_8059f380_8bfc_11ea_a7ca_303a647772f1row1_col0\" class=\"data row1 col0\" >652</td>\n",
       "                        <td id=\"T_8059f380_8bfc_11ea_a7ca_303a647772f1row1_col1\" class=\"data row1 col1\" >$3.05</td>\n",
       "                        <td id=\"T_8059f380_8bfc_11ea_a7ca_303a647772f1row1_col2\" class=\"data row1 col2\" >$1,967.64</td>\n",
       "                        <td id=\"T_8059f380_8bfc_11ea_a7ca_303a647772f1row1_col3\" class=\"data row1 col3\" >$4.07</td>\n",
       "            </tr>\n",
       "            <tr>\n",
       "                        <th id=\"T_8059f380_8bfc_11ea_a7ca_303a647772f1level0_row2\" class=\"row_heading level0 row2\" >Other / Non-Disclosed</th>\n",
       "                        <td id=\"T_8059f380_8bfc_11ea_a7ca_303a647772f1row2_col0\" class=\"data row2 col0\" >15</td>\n",
       "                        <td id=\"T_8059f380_8bfc_11ea_a7ca_303a647772f1row2_col1\" class=\"data row2 col1\" >$3.05</td>\n",
       "                        <td id=\"T_8059f380_8bfc_11ea_a7ca_303a647772f1row2_col2\" class=\"data row2 col2\" >$50.19</td>\n",
       "                        <td id=\"T_8059f380_8bfc_11ea_a7ca_303a647772f1row2_col3\" class=\"data row2 col3\" >$4.56</td>\n",
       "            </tr>\n",
       "    </tbody></table>"
      ],
      "text/plain": [
       "<pandas.io.formats.style.Styler at 0x19bcc938388>"
      ]
     },
     "execution_count": 6,
     "metadata": {},
     "output_type": "execute_result"
    }
   ],
   "source": [
    "# Purchase Count\n",
    "Purchase_Count = Gender_stats[\"Purchase ID\"].count()\n",
    "\n",
    "# Average Purchase Price\n",
    "Avegare_Purchase_Price = Gender_stats[\"Price\"].mean()\n",
    "\n",
    "# Average Purchase Total by Gender\n",
    "Average_Purchase_Total = Gender_stats[\"Price\"].sum()\n",
    "Avg_Pur_per_Person = Average_Purchase_Total/Total_Gender_Count\n",
    "\n",
    "# Create Data Frame\n",
    "Gender_Demographics = pd.DataFrame({\"Purchase Count\": Purchase_Count, \"Average Purchase Price\": Average_Purchase_Price,\n",
    "                                   \"Average Purchase Value\": Average_Purchase_Total, \"Average Purchase Total per Person\": Avg_Pur_per_Person})\n",
    "# Give the index name\n",
    "Gender_Demographics.index.name =\"Gender\"\n",
    "\n",
    "# Currency Format\n",
    "Gender_Demographics.style.format({\"Average Purchase Value\":\"${:,.2f}\",\"Average Purchase Price\":\"${:,.2f}\",\"Average Purchase Total per Person\":\"${:,.2f}\"})\n",
    "\n"
   ]
  },
  {
   "cell_type": "code",
   "execution_count": 7,
   "metadata": {},
   "outputs": [
    {
     "data": {
      "text/html": [
       "<style  type=\"text/css\" >\n",
       "</style><table id=\"T_837ea048_8bfc_11ea_b7dc_303a647772f1\" ><thead>    <tr>        <th class=\"blank level0\" ></th>        <th class=\"col_heading level0 col0\" >Purchase Count</th>        <th class=\"col_heading level0 col1\" >Average Purchase Price</th>        <th class=\"col_heading level0 col2\" >Total Purchase Value</th>        <th class=\"col_heading level0 col3\" >Average Purchase Total per Person</th>    </tr></thead><tbody>\n",
       "                <tr>\n",
       "                        <th id=\"T_837ea048_8bfc_11ea_b7dc_303a647772f1level0_row0\" class=\"row_heading level0 row0\" ><10</th>\n",
       "                        <td id=\"T_837ea048_8bfc_11ea_b7dc_303a647772f1row0_col0\" class=\"data row0 col0\" >23</td>\n",
       "                        <td id=\"T_837ea048_8bfc_11ea_b7dc_303a647772f1row0_col1\" class=\"data row0 col1\" >$3.35</td>\n",
       "                        <td id=\"T_837ea048_8bfc_11ea_b7dc_303a647772f1row0_col2\" class=\"data row0 col2\" >$77.13</td>\n",
       "                        <td id=\"T_837ea048_8bfc_11ea_b7dc_303a647772f1row0_col3\" class=\"data row0 col3\" >$4.54</td>\n",
       "            </tr>\n",
       "            <tr>\n",
       "                        <th id=\"T_837ea048_8bfc_11ea_b7dc_303a647772f1level0_row1\" class=\"row_heading level0 row1\" >10-14</th>\n",
       "                        <td id=\"T_837ea048_8bfc_11ea_b7dc_303a647772f1row1_col0\" class=\"data row1 col0\" >28</td>\n",
       "                        <td id=\"T_837ea048_8bfc_11ea_b7dc_303a647772f1row1_col1\" class=\"data row1 col1\" >$2.96</td>\n",
       "                        <td id=\"T_837ea048_8bfc_11ea_b7dc_303a647772f1row1_col2\" class=\"data row1 col2\" >$82.78</td>\n",
       "                        <td id=\"T_837ea048_8bfc_11ea_b7dc_303a647772f1row1_col3\" class=\"data row1 col3\" >$3.76</td>\n",
       "            </tr>\n",
       "            <tr>\n",
       "                        <th id=\"T_837ea048_8bfc_11ea_b7dc_303a647772f1level0_row2\" class=\"row_heading level0 row2\" >15-19</th>\n",
       "                        <td id=\"T_837ea048_8bfc_11ea_b7dc_303a647772f1row2_col0\" class=\"data row2 col0\" >136</td>\n",
       "                        <td id=\"T_837ea048_8bfc_11ea_b7dc_303a647772f1row2_col1\" class=\"data row2 col1\" >$3.04</td>\n",
       "                        <td id=\"T_837ea048_8bfc_11ea_b7dc_303a647772f1row2_col2\" class=\"data row2 col2\" >$412.89</td>\n",
       "                        <td id=\"T_837ea048_8bfc_11ea_b7dc_303a647772f1row2_col3\" class=\"data row2 col3\" >$3.86</td>\n",
       "            </tr>\n",
       "            <tr>\n",
       "                        <th id=\"T_837ea048_8bfc_11ea_b7dc_303a647772f1level0_row3\" class=\"row_heading level0 row3\" >20-24</th>\n",
       "                        <td id=\"T_837ea048_8bfc_11ea_b7dc_303a647772f1row3_col0\" class=\"data row3 col0\" >365</td>\n",
       "                        <td id=\"T_837ea048_8bfc_11ea_b7dc_303a647772f1row3_col1\" class=\"data row3 col1\" >$3.05</td>\n",
       "                        <td id=\"T_837ea048_8bfc_11ea_b7dc_303a647772f1row3_col2\" class=\"data row3 col2\" >$1,114.06</td>\n",
       "                        <td id=\"T_837ea048_8bfc_11ea_b7dc_303a647772f1row3_col3\" class=\"data row3 col3\" >$4.32</td>\n",
       "            </tr>\n",
       "            <tr>\n",
       "                        <th id=\"T_837ea048_8bfc_11ea_b7dc_303a647772f1level0_row4\" class=\"row_heading level0 row4\" >25-29</th>\n",
       "                        <td id=\"T_837ea048_8bfc_11ea_b7dc_303a647772f1row4_col0\" class=\"data row4 col0\" >101</td>\n",
       "                        <td id=\"T_837ea048_8bfc_11ea_b7dc_303a647772f1row4_col1\" class=\"data row4 col1\" >$2.90</td>\n",
       "                        <td id=\"T_837ea048_8bfc_11ea_b7dc_303a647772f1row4_col2\" class=\"data row4 col2\" >$293.00</td>\n",
       "                        <td id=\"T_837ea048_8bfc_11ea_b7dc_303a647772f1row4_col3\" class=\"data row4 col3\" >$3.81</td>\n",
       "            </tr>\n",
       "            <tr>\n",
       "                        <th id=\"T_837ea048_8bfc_11ea_b7dc_303a647772f1level0_row5\" class=\"row_heading level0 row5\" >30-34</th>\n",
       "                        <td id=\"T_837ea048_8bfc_11ea_b7dc_303a647772f1row5_col0\" class=\"data row5 col0\" >73</td>\n",
       "                        <td id=\"T_837ea048_8bfc_11ea_b7dc_303a647772f1row5_col1\" class=\"data row5 col1\" >$2.93</td>\n",
       "                        <td id=\"T_837ea048_8bfc_11ea_b7dc_303a647772f1row5_col2\" class=\"data row5 col2\" >$214.00</td>\n",
       "                        <td id=\"T_837ea048_8bfc_11ea_b7dc_303a647772f1row5_col3\" class=\"data row5 col3\" >$4.12</td>\n",
       "            </tr>\n",
       "            <tr>\n",
       "                        <th id=\"T_837ea048_8bfc_11ea_b7dc_303a647772f1level0_row6\" class=\"row_heading level0 row6\" >35-39</th>\n",
       "                        <td id=\"T_837ea048_8bfc_11ea_b7dc_303a647772f1row6_col0\" class=\"data row6 col0\" >41</td>\n",
       "                        <td id=\"T_837ea048_8bfc_11ea_b7dc_303a647772f1row6_col1\" class=\"data row6 col1\" >$3.60</td>\n",
       "                        <td id=\"T_837ea048_8bfc_11ea_b7dc_303a647772f1row6_col2\" class=\"data row6 col2\" >$147.67</td>\n",
       "                        <td id=\"T_837ea048_8bfc_11ea_b7dc_303a647772f1row6_col3\" class=\"data row6 col3\" >$4.76</td>\n",
       "            </tr>\n",
       "            <tr>\n",
       "                        <th id=\"T_837ea048_8bfc_11ea_b7dc_303a647772f1level0_row7\" class=\"row_heading level0 row7\" >40+</th>\n",
       "                        <td id=\"T_837ea048_8bfc_11ea_b7dc_303a647772f1row7_col0\" class=\"data row7 col0\" >13</td>\n",
       "                        <td id=\"T_837ea048_8bfc_11ea_b7dc_303a647772f1row7_col1\" class=\"data row7 col1\" >$2.94</td>\n",
       "                        <td id=\"T_837ea048_8bfc_11ea_b7dc_303a647772f1row7_col2\" class=\"data row7 col2\" >$38.24</td>\n",
       "                        <td id=\"T_837ea048_8bfc_11ea_b7dc_303a647772f1row7_col3\" class=\"data row7 col3\" >$3.19</td>\n",
       "            </tr>\n",
       "    </tbody></table>"
      ],
      "text/plain": [
       "<pandas.io.formats.style.Styler at 0x19bcc951cc8>"
      ]
     },
     "execution_count": 7,
     "metadata": {},
     "output_type": "execute_result"
    }
   ],
   "source": [
    "# Establish bins for Age\n",
    "age_bins =[0, 9.90, 14.90, 19.90, 24.90, 29.90, 34.90, 39.90, 99999]\n",
    "Group_Name = [\"<10\", \"10-14\", \"15-19\", \"20-24\", \"25-29\", \"30-34\", \"35-39\", \"40+\"]\n",
    "\n",
    "csv_df[\"Age Group\"] = pd.cut(csv_df[\"Age\"],age_bins, labels = Group_Name)\n",
    "csv_df\n",
    "\n",
    "Age_Grouped = csv_df.groupby(\"Age Group\")\n",
    "\n",
    "# Count Total Players by Age\n",
    "Total_Count_Age = Age_Grouped[\"SN\"].nunique()\n",
    "\n",
    "# Count Purchase by Age Group\n",
    "Purchase_Count_Age = Age_Grouped[\"Purchase ID\"].count()\n",
    "\n",
    "# Average Purchase Price by Age Group\n",
    "Average_Purchase_Price_Age = Age_Grouped[\"Price\"].mean()\n",
    "\n",
    "# Total Purchase Value by Age Group\n",
    "Total_Purchase_Value = Age_Grouped[\"Price\"].sum()\n",
    "\n",
    "# Average Purchase Total per Person by Group_\n",
    "Average_Purchase_per_Person_Age = Total_Purchase_Value/Total_Count_Age\n",
    "\n",
    "# Create a Data Frame\n",
    "Age_Demographics = pd.DataFrame({\"Purchase Count\": Purchase_Count_Age, \"Average Purchase Price\": Average_Purchase_Price_Age, \n",
    "                                \"Total Purchase Value\": Total_Purchase_Value, \"Average Purchase Total per Person\": Average_Purchase_per_Person_Age})\n",
    "Age_Demographics.index.name = None\n",
    "\n",
    "# Give Currency Format\n",
    "Age_Demographics.style.format({\"Average Purchase Price\":\"${:,.2f}\", \"Total Purchase Value\":\"${:,.2f}\", \"Average Purchase Total per Person\":\"${:,.2f}\"})\n",
    "\n"
   ]
  },
  {
   "cell_type": "code",
   "execution_count": 8,
   "metadata": {},
   "outputs": [
    {
     "data": {
      "text/html": [
       "<style  type=\"text/css\" >\n",
       "</style><table id=\"T_86fc040a_8bfc_11ea_bbd2_303a647772f1\" ><thead>    <tr>        <th class=\"blank level0\" ></th>        <th class=\"col_heading level0 col0\" >Purchase Count</th>        <th class=\"col_heading level0 col1\" >Average Purchase Price</th>        <th class=\"col_heading level0 col2\" >Total Purchase Value</th>    </tr>    <tr>        <th class=\"index_name level0\" >SN</th>        <th class=\"blank\" ></th>        <th class=\"blank\" ></th>        <th class=\"blank\" ></th>    </tr></thead><tbody>\n",
       "                <tr>\n",
       "                        <th id=\"T_86fc040a_8bfc_11ea_bbd2_303a647772f1level0_row0\" class=\"row_heading level0 row0\" >Lisosia93</th>\n",
       "                        <td id=\"T_86fc040a_8bfc_11ea_bbd2_303a647772f1row0_col0\" class=\"data row0 col0\" >5</td>\n",
       "                        <td id=\"T_86fc040a_8bfc_11ea_bbd2_303a647772f1row0_col1\" class=\"data row0 col1\" >$3.79</td>\n",
       "                        <td id=\"T_86fc040a_8bfc_11ea_bbd2_303a647772f1row0_col2\" class=\"data row0 col2\" >$18.96</td>\n",
       "            </tr>\n",
       "            <tr>\n",
       "                        <th id=\"T_86fc040a_8bfc_11ea_bbd2_303a647772f1level0_row1\" class=\"row_heading level0 row1\" >Idastidru52</th>\n",
       "                        <td id=\"T_86fc040a_8bfc_11ea_bbd2_303a647772f1row1_col0\" class=\"data row1 col0\" >4</td>\n",
       "                        <td id=\"T_86fc040a_8bfc_11ea_bbd2_303a647772f1row1_col1\" class=\"data row1 col1\" >$3.86</td>\n",
       "                        <td id=\"T_86fc040a_8bfc_11ea_bbd2_303a647772f1row1_col2\" class=\"data row1 col2\" >$15.45</td>\n",
       "            </tr>\n",
       "            <tr>\n",
       "                        <th id=\"T_86fc040a_8bfc_11ea_bbd2_303a647772f1level0_row2\" class=\"row_heading level0 row2\" >Chamjask73</th>\n",
       "                        <td id=\"T_86fc040a_8bfc_11ea_bbd2_303a647772f1row2_col0\" class=\"data row2 col0\" >3</td>\n",
       "                        <td id=\"T_86fc040a_8bfc_11ea_bbd2_303a647772f1row2_col1\" class=\"data row2 col1\" >$4.61</td>\n",
       "                        <td id=\"T_86fc040a_8bfc_11ea_bbd2_303a647772f1row2_col2\" class=\"data row2 col2\" >$13.83</td>\n",
       "            </tr>\n",
       "            <tr>\n",
       "                        <th id=\"T_86fc040a_8bfc_11ea_bbd2_303a647772f1level0_row3\" class=\"row_heading level0 row3\" >Iral74</th>\n",
       "                        <td id=\"T_86fc040a_8bfc_11ea_bbd2_303a647772f1row3_col0\" class=\"data row3 col0\" >4</td>\n",
       "                        <td id=\"T_86fc040a_8bfc_11ea_bbd2_303a647772f1row3_col1\" class=\"data row3 col1\" >$3.40</td>\n",
       "                        <td id=\"T_86fc040a_8bfc_11ea_bbd2_303a647772f1row3_col2\" class=\"data row3 col2\" >$13.62</td>\n",
       "            </tr>\n",
       "            <tr>\n",
       "                        <th id=\"T_86fc040a_8bfc_11ea_bbd2_303a647772f1level0_row4\" class=\"row_heading level0 row4\" >Iskadarya95</th>\n",
       "                        <td id=\"T_86fc040a_8bfc_11ea_bbd2_303a647772f1row4_col0\" class=\"data row4 col0\" >3</td>\n",
       "                        <td id=\"T_86fc040a_8bfc_11ea_bbd2_303a647772f1row4_col1\" class=\"data row4 col1\" >$4.37</td>\n",
       "                        <td id=\"T_86fc040a_8bfc_11ea_bbd2_303a647772f1row4_col2\" class=\"data row4 col2\" >$13.10</td>\n",
       "            </tr>\n",
       "    </tbody></table>"
      ],
      "text/plain": [
       "<pandas.io.formats.style.Styler at 0x19bcc960bc8>"
      ]
     },
     "execution_count": 8,
     "metadata": {},
     "output_type": "execute_result"
    }
   ],
   "source": [
    "# Group Purchase Data by Screen Name\n",
    "Spender_Stats = csv_df.groupby(\"SN\")\n",
    "\n",
    "# Total Purchase by Name\n",
    "Purchase_Count_Spender = Spender_Stats[\"Purchase ID\"].count()\n",
    "\n",
    "# The Average Purchase by Name\n",
    "Average_Purchase_Price_Spender = Spender_Stats[\"Price\"].mean()\n",
    "\n",
    "# Calculate Total Purchase\n",
    "Purchase_Total_Spender = Spender_Stats[\"Price\"].sum() \n",
    "\n",
    "# Create a Data Frame\n",
    "Top_Spenders = pd.DataFrame({\"Purchase Count\": Purchase_Count_Spender, \"Average Purchase Price\": Average_Purchase_Price_Spender,\n",
    "                           \"Total Purchase Value\": Purchase_Total_Spender })\n",
    "\n",
    "# Descending order\n",
    "Formatted_Spenders = Top_Spenders.sort_values([\"Total Purchase Value\"], ascending=False).head()\n",
    "Formatted_Spenders.style.format({\"Average Purchase Price\":\"${:,.2f}\",\"Total Purchase Value\":\"${:,.2f}\"})"
   ]
  },
  {
   "cell_type": "code",
   "execution_count": 17,
   "metadata": {
    "scrolled": true
   },
   "outputs": [
    {
     "data": {
      "text/html": [
       "<style  type=\"text/css\" >\n",
       "</style><table id=\"T_84450212_8bff_11ea_958f_303a647772f1\" ><thead>    <tr>        <th class=\"blank\" ></th>        <th class=\"blank level0\" ></th>        <th class=\"col_heading level0 col0\" >Purchase Count</th>        <th class=\"col_heading level0 col1\" >Item Price</th>        <th class=\"col_heading level0 col2\" >Total Purchase Value</th>    </tr>    <tr>        <th class=\"index_name level0\" >Item ID</th>        <th class=\"index_name level1\" >Item Name</th>        <th class=\"blank\" ></th>        <th class=\"blank\" ></th>        <th class=\"blank\" ></th>    </tr></thead><tbody>\n",
       "                <tr>\n",
       "                        <th id=\"T_84450212_8bff_11ea_958f_303a647772f1level0_row0\" class=\"row_heading level0 row0\" >92</th>\n",
       "                        <th id=\"T_84450212_8bff_11ea_958f_303a647772f1level1_row0\" class=\"row_heading level1 row0\" >Final Critic</th>\n",
       "                        <td id=\"T_84450212_8bff_11ea_958f_303a647772f1row0_col0\" class=\"data row0 col0\" >13</td>\n",
       "                        <td id=\"T_84450212_8bff_11ea_958f_303a647772f1row0_col1\" class=\"data row0 col1\" >$4.61</td>\n",
       "                        <td id=\"T_84450212_8bff_11ea_958f_303a647772f1row0_col2\" class=\"data row0 col2\" >59.990000</td>\n",
       "            </tr>\n",
       "            <tr>\n",
       "                        <th id=\"T_84450212_8bff_11ea_958f_303a647772f1level0_row1\" class=\"row_heading level0 row1\" >178</th>\n",
       "                        <th id=\"T_84450212_8bff_11ea_958f_303a647772f1level1_row1\" class=\"row_heading level1 row1\" >Oathbreaker, Last Hope of the Breaking Storm</th>\n",
       "                        <td id=\"T_84450212_8bff_11ea_958f_303a647772f1row1_col0\" class=\"data row1 col0\" >12</td>\n",
       "                        <td id=\"T_84450212_8bff_11ea_958f_303a647772f1row1_col1\" class=\"data row1 col1\" >$4.23</td>\n",
       "                        <td id=\"T_84450212_8bff_11ea_958f_303a647772f1row1_col2\" class=\"data row1 col2\" >50.760000</td>\n",
       "            </tr>\n",
       "            <tr>\n",
       "                        <th id=\"T_84450212_8bff_11ea_958f_303a647772f1level0_row2\" class=\"row_heading level0 row2\" >145</th>\n",
       "                        <th id=\"T_84450212_8bff_11ea_958f_303a647772f1level1_row2\" class=\"row_heading level1 row2\" >Fiery Glass Crusader</th>\n",
       "                        <td id=\"T_84450212_8bff_11ea_958f_303a647772f1row2_col0\" class=\"data row2 col0\" >9</td>\n",
       "                        <td id=\"T_84450212_8bff_11ea_958f_303a647772f1row2_col1\" class=\"data row2 col1\" >$4.58</td>\n",
       "                        <td id=\"T_84450212_8bff_11ea_958f_303a647772f1row2_col2\" class=\"data row2 col2\" >41.220000</td>\n",
       "            </tr>\n",
       "            <tr>\n",
       "                        <th id=\"T_84450212_8bff_11ea_958f_303a647772f1level0_row3\" class=\"row_heading level0 row3\" >132</th>\n",
       "                        <th id=\"T_84450212_8bff_11ea_958f_303a647772f1level1_row3\" class=\"row_heading level1 row3\" >Persuasion</th>\n",
       "                        <td id=\"T_84450212_8bff_11ea_958f_303a647772f1row3_col0\" class=\"data row3 col0\" >9</td>\n",
       "                        <td id=\"T_84450212_8bff_11ea_958f_303a647772f1row3_col1\" class=\"data row3 col1\" >$3.22</td>\n",
       "                        <td id=\"T_84450212_8bff_11ea_958f_303a647772f1row3_col2\" class=\"data row3 col2\" >28.990000</td>\n",
       "            </tr>\n",
       "            <tr>\n",
       "                        <th id=\"T_84450212_8bff_11ea_958f_303a647772f1level0_row4\" class=\"row_heading level0 row4\" >108</th>\n",
       "                        <th id=\"T_84450212_8bff_11ea_958f_303a647772f1level1_row4\" class=\"row_heading level1 row4\" >Extraction, Quickblade Of Trembling Hands</th>\n",
       "                        <td id=\"T_84450212_8bff_11ea_958f_303a647772f1row4_col0\" class=\"data row4 col0\" >9</td>\n",
       "                        <td id=\"T_84450212_8bff_11ea_958f_303a647772f1row4_col1\" class=\"data row4 col1\" >$3.53</td>\n",
       "                        <td id=\"T_84450212_8bff_11ea_958f_303a647772f1row4_col2\" class=\"data row4 col2\" >31.770000</td>\n",
       "            </tr>\n",
       "    </tbody></table>"
      ],
      "text/plain": [
       "<pandas.io.formats.style.Styler at 0x19bcca29308>"
      ]
     },
     "execution_count": 17,
     "metadata": {},
     "output_type": "execute_result"
    }
   ],
   "source": [
    "# Create a new data frame \n",
    "Items = csv_df[[\"Item ID\",\"Item Name\",\"Price\"]]\n",
    "\n",
    "# Group the item data by Item ID and Name\n",
    "Item_stats = Items.groupby([\"Item ID\",\"Item Name\"])\n",
    "\n",
    "# Purchase Count\n",
    "Purchase_Count_Item = Item_stats[\"Price\"].count()\n",
    "\n",
    "# Purchase Value per Item\n",
    "Purchase_Value = Item_stats[\"Price\"].sum()\n",
    "\n",
    "# Individual Item Price\n",
    "Item_Price = Purchase_Value/Purchase_Count_Item\n",
    "\n",
    "# Create Data Frame\n",
    "Most_Popular_Items = pd.DataFrame({\"Purchase Count\": Purchase_Count_Item, \"Item Price\": Item_Price, \n",
    "                                   \"Total Purchase Value\": Purchase_Value})\n",
    "# Sort in Descending order\n",
    "Popular_Formatted = Most_Popular_Items.sort_values([\"Purchase Count\"], ascending=False).head()\n",
    "\n",
    "# Currency Format\n",
    "Popular_Formatted.style.format({\"Total Purchase value\":\"${:,.2f}\",\"Item Price\":\"${:,.2f}\"})\n"
   ]
  },
  {
   "cell_type": "code",
   "execution_count": 20,
   "metadata": {},
   "outputs": [
    {
     "data": {
      "text/html": [
       "<style  type=\"text/css\" >\n",
       "</style><table id=\"T_b5c6825e_8c00_11ea_bbc5_303a647772f1\" ><thead>    <tr>        <th class=\"blank\" ></th>        <th class=\"blank level0\" ></th>        <th class=\"col_heading level0 col0\" >Purchase Count</th>        <th class=\"col_heading level0 col1\" >Item Price</th>        <th class=\"col_heading level0 col2\" >Total Purchase Value</th>    </tr>    <tr>        <th class=\"index_name level0\" >Item ID</th>        <th class=\"index_name level1\" >Item Name</th>        <th class=\"blank\" ></th>        <th class=\"blank\" ></th>        <th class=\"blank\" ></th>    </tr></thead><tbody>\n",
       "                <tr>\n",
       "                        <th id=\"T_b5c6825e_8c00_11ea_bbc5_303a647772f1level0_row0\" class=\"row_heading level0 row0\" >92</th>\n",
       "                        <th id=\"T_b5c6825e_8c00_11ea_bbc5_303a647772f1level1_row0\" class=\"row_heading level1 row0\" >Final Critic</th>\n",
       "                        <td id=\"T_b5c6825e_8c00_11ea_bbc5_303a647772f1row0_col0\" class=\"data row0 col0\" >13</td>\n",
       "                        <td id=\"T_b5c6825e_8c00_11ea_bbc5_303a647772f1row0_col1\" class=\"data row0 col1\" >$4.61</td>\n",
       "                        <td id=\"T_b5c6825e_8c00_11ea_bbc5_303a647772f1row0_col2\" class=\"data row0 col2\" >$59.99</td>\n",
       "            </tr>\n",
       "            <tr>\n",
       "                        <th id=\"T_b5c6825e_8c00_11ea_bbc5_303a647772f1level0_row1\" class=\"row_heading level0 row1\" >178</th>\n",
       "                        <th id=\"T_b5c6825e_8c00_11ea_bbc5_303a647772f1level1_row1\" class=\"row_heading level1 row1\" >Oathbreaker, Last Hope of the Breaking Storm</th>\n",
       "                        <td id=\"T_b5c6825e_8c00_11ea_bbc5_303a647772f1row1_col0\" class=\"data row1 col0\" >12</td>\n",
       "                        <td id=\"T_b5c6825e_8c00_11ea_bbc5_303a647772f1row1_col1\" class=\"data row1 col1\" >$4.23</td>\n",
       "                        <td id=\"T_b5c6825e_8c00_11ea_bbc5_303a647772f1row1_col2\" class=\"data row1 col2\" >$50.76</td>\n",
       "            </tr>\n",
       "            <tr>\n",
       "                        <th id=\"T_b5c6825e_8c00_11ea_bbc5_303a647772f1level0_row2\" class=\"row_heading level0 row2\" >82</th>\n",
       "                        <th id=\"T_b5c6825e_8c00_11ea_bbc5_303a647772f1level1_row2\" class=\"row_heading level1 row2\" >Nirvana</th>\n",
       "                        <td id=\"T_b5c6825e_8c00_11ea_bbc5_303a647772f1row2_col0\" class=\"data row2 col0\" >9</td>\n",
       "                        <td id=\"T_b5c6825e_8c00_11ea_bbc5_303a647772f1row2_col1\" class=\"data row2 col1\" >$4.90</td>\n",
       "                        <td id=\"T_b5c6825e_8c00_11ea_bbc5_303a647772f1row2_col2\" class=\"data row2 col2\" >$44.10</td>\n",
       "            </tr>\n",
       "            <tr>\n",
       "                        <th id=\"T_b5c6825e_8c00_11ea_bbc5_303a647772f1level0_row3\" class=\"row_heading level0 row3\" >145</th>\n",
       "                        <th id=\"T_b5c6825e_8c00_11ea_bbc5_303a647772f1level1_row3\" class=\"row_heading level1 row3\" >Fiery Glass Crusader</th>\n",
       "                        <td id=\"T_b5c6825e_8c00_11ea_bbc5_303a647772f1row3_col0\" class=\"data row3 col0\" >9</td>\n",
       "                        <td id=\"T_b5c6825e_8c00_11ea_bbc5_303a647772f1row3_col1\" class=\"data row3 col1\" >$4.58</td>\n",
       "                        <td id=\"T_b5c6825e_8c00_11ea_bbc5_303a647772f1row3_col2\" class=\"data row3 col2\" >$41.22</td>\n",
       "            </tr>\n",
       "            <tr>\n",
       "                        <th id=\"T_b5c6825e_8c00_11ea_bbc5_303a647772f1level0_row4\" class=\"row_heading level0 row4\" >103</th>\n",
       "                        <th id=\"T_b5c6825e_8c00_11ea_bbc5_303a647772f1level1_row4\" class=\"row_heading level1 row4\" >Singed Scalpel</th>\n",
       "                        <td id=\"T_b5c6825e_8c00_11ea_bbc5_303a647772f1row4_col0\" class=\"data row4 col0\" >8</td>\n",
       "                        <td id=\"T_b5c6825e_8c00_11ea_bbc5_303a647772f1row4_col1\" class=\"data row4 col1\" >$4.35</td>\n",
       "                        <td id=\"T_b5c6825e_8c00_11ea_bbc5_303a647772f1row4_col2\" class=\"data row4 col2\" >$34.80</td>\n",
       "            </tr>\n",
       "    </tbody></table>"
      ],
      "text/plain": [
       "<pandas.io.formats.style.Styler at 0x19bcca3a408>"
      ]
     },
     "execution_count": 20,
     "metadata": {},
     "output_type": "execute_result"
    }
   ],
   "source": [
    "# Take the Most Popular DataFrame and change the sorting to find Highest Total Purchase Value\n",
    "Popular_Formatted = Most_Popular_Items.sort_values([\"Total Purchase Value\"], ascending=False).head()\n",
    "\n",
    "# Currency Format\n",
    "Popular_Formatted.style.format({\"Total Purchase Value\":\"${:,.2f}\",\"Item Price\":\"${:,.2f}\"})"
   ]
  },
  {
   "cell_type": "markdown",
   "metadata": {},
   "source": [
    "###  Observable Trends\n",
    "     The biggest spending is between the ages of 18 and 26.\n",
    "     Males make up the vast majority of purchasers at over 80%.\n",
    "     Even the most popular item only has a purchase count of 14 out of 573 players which means that people are\n",
    "     interested in a variety of items.    "
   ]
  }
 ],
 "metadata": {
  "kernelspec": {
   "display_name": "Python 3",
   "language": "python",
   "name": "python3"
  },
  "language_info": {
   "codemirror_mode": {
    "name": "ipython",
    "version": 3
   },
   "file_extension": ".py",
   "mimetype": "text/x-python",
   "name": "python",
   "nbconvert_exporter": "python",
   "pygments_lexer": "ipython3",
   "version": "3.7.6"
  }
 },
 "nbformat": 4,
 "nbformat_minor": 4
}
